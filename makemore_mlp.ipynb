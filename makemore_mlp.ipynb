{
  "nbformat": 4,
  "nbformat_minor": 0,
  "metadata": {
    "colab": {
      "provenance": [],
      "mount_file_id": "1UInif-saR1l5dm00ebhZSN0jR30u3FxZ",
      "authorship_tag": "ABX9TyMejRB0HaajmsH+SMf0MYYS",
      "include_colab_link": true
    },
    "kernelspec": {
      "name": "python3",
      "display_name": "Python 3"
    },
    "language_info": {
      "name": "python"
    }
  },
  "cells": [
    {
      "cell_type": "markdown",
      "metadata": {
        "id": "view-in-github",
        "colab_type": "text"
      },
      "source": [
        "<a href=\"https://colab.research.google.com/github/hzhang0110/hzhang_ML_Projects/blob/main/makemore_mlp.ipynb\" target=\"_parent\"><img src=\"https://colab.research.google.com/assets/colab-badge.svg\" alt=\"Open In Colab\"/></a>"
      ]
    },
    {
      "cell_type": "code",
      "execution_count": 295,
      "metadata": {
        "id": "sHXxJA9AY-H0"
      },
      "outputs": [],
      "source": [
        "import torch\n",
        "import torch.nn.functional as F\n",
        "import matplotlib.pyplot as plt #for charts\n"
      ]
    },
    {
      "cell_type": "code",
      "source": [
        "#read all words\n",
        "words = open('/content/drive/MyDrive/machine_learning_files/names.txt', 'r').read().splitlines()\n",
        "words[:8]"
      ],
      "metadata": {
        "colab": {
          "base_uri": "https://localhost:8080/"
        },
        "id": "7Y47MYo-ZRYL",
        "outputId": "f2e98244-ea8b-4568-a3b9-8236ca108d0f"
      },
      "execution_count": 296,
      "outputs": [
        {
          "output_type": "execute_result",
          "data": {
            "text/plain": [
              "['emma', 'olivia', 'ava', 'isabella', 'sophia', 'charlotte', 'mia', 'amelia']"
            ]
          },
          "metadata": {},
          "execution_count": 296
        }
      ]
    },
    {
      "cell_type": "code",
      "source": [
        "len(words)"
      ],
      "metadata": {
        "colab": {
          "base_uri": "https://localhost:8080/"
        },
        "id": "cJQfLtvUZtgh",
        "outputId": "83c8d2f5-1303-475f-e3eb-a40b0f6b5f60"
      },
      "execution_count": 297,
      "outputs": [
        {
          "output_type": "execute_result",
          "data": {
            "text/plain": [
              "32033"
            ]
          },
          "metadata": {},
          "execution_count": 297
        }
      ]
    },
    {
      "cell_type": "code",
      "source": [
        "#build the vocabulary of characters and mapping to/from integers\n",
        "chars = sorted(list(set(''.join(words))))\n",
        "stoi = {s:i+1 for i,s in enumerate(chars)}\n",
        "stoi['.'] = 0\n",
        "itos = {i:s for s,i in stoi.items()}\n",
        "print(stoi)\n",
        "print(itos)\n"
      ],
      "metadata": {
        "colab": {
          "base_uri": "https://localhost:8080/"
        },
        "id": "r6b-Rx1KZxaM",
        "outputId": "31a84acf-4d17-4d51-e017-842a9706cd53"
      },
      "execution_count": 298,
      "outputs": [
        {
          "output_type": "stream",
          "name": "stdout",
          "text": [
            "{'a': 1, 'b': 2, 'c': 3, 'd': 4, 'e': 5, 'f': 6, 'g': 7, 'h': 8, 'i': 9, 'j': 10, 'k': 11, 'l': 12, 'm': 13, 'n': 14, 'o': 15, 'p': 16, 'q': 17, 'r': 18, 's': 19, 't': 20, 'u': 21, 'v': 22, 'w': 23, 'x': 24, 'y': 25, 'z': 26, '.': 0}\n",
            "{1: 'a', 2: 'b', 3: 'c', 4: 'd', 5: 'e', 6: 'f', 7: 'g', 8: 'h', 9: 'i', 10: 'j', 11: 'k', 12: 'l', 13: 'm', 14: 'n', 15: 'o', 16: 'p', 17: 'q', 18: 'r', 19: 's', 20: 't', 21: 'u', 22: 'v', 23: 'w', 24: 'x', 25: 'y', 26: 'z', 0: '.'}\n"
          ]
        }
      ]
    },
    {
      "cell_type": "code",
      "source": [
        "#build the dataset\n",
        "\n",
        "block_size = 3\n",
        "X,Y = [], []\n",
        "for w in words:\n",
        "\n",
        "  #print(w)\n",
        "  context = [0] * block_size\n",
        "  for ch in w + '.':\n",
        "    ix = stoi[ch]\n",
        "    X.append(context)\n",
        "    Y.append(ix)\n",
        "    #print(''.join(itos[i] for i in context), '--->', itos[ix])\n",
        "    context = context[1:] + [ix] #crop and append\n",
        "\n",
        "X = torch.tensor(X)\n",
        "Y = torch.tensor(Y)\n",
        ""
      ],
      "metadata": {
        "id": "oxMxLsEDaMA7"
      },
      "execution_count": 299,
      "outputs": []
    },
    {
      "cell_type": "code",
      "source": [
        "X.shape, X.dtype, Y.shape, Y.dtype"
      ],
      "metadata": {
        "colab": {
          "base_uri": "https://localhost:8080/"
        },
        "id": "eUoD3ZYyjIcx",
        "outputId": "7906cdc9-ef8e-4bfb-94cf-25ce9139e36a"
      },
      "execution_count": 300,
      "outputs": [
        {
          "output_type": "execute_result",
          "data": {
            "text/plain": [
              "(torch.Size([228146, 3]), torch.int64, torch.Size([228146]), torch.int64)"
            ]
          },
          "metadata": {},
          "execution_count": 300
        }
      ]
    },
    {
      "cell_type": "code",
      "source": [
        "X, Y"
      ],
      "metadata": {
        "colab": {
          "base_uri": "https://localhost:8080/"
        },
        "id": "qcI-FQTnjbIB",
        "outputId": "024fcbff-8d9e-48ef-ce4f-654704cea2fc"
      },
      "execution_count": 301,
      "outputs": [
        {
          "output_type": "execute_result",
          "data": {
            "text/plain": [
              "(tensor([[ 0,  0,  0],\n",
              "         [ 0,  0,  5],\n",
              "         [ 0,  5, 13],\n",
              "         ...,\n",
              "         [26, 26, 25],\n",
              "         [26, 25, 26],\n",
              "         [25, 26, 24]]),\n",
              " tensor([ 5, 13, 13,  ..., 26, 24,  0]))"
            ]
          },
          "metadata": {},
          "execution_count": 301
        }
      ]
    },
    {
      "cell_type": "code",
      "source": [
        "C = torch.randn((27,2))\n",
        "C"
      ],
      "metadata": {
        "colab": {
          "base_uri": "https://localhost:8080/"
        },
        "id": "PcfYq2Jgjgh4",
        "outputId": "7879a0ea-48f3-400d-c550-f8930983c9c6"
      },
      "execution_count": 302,
      "outputs": [
        {
          "output_type": "execute_result",
          "data": {
            "text/plain": [
              "tensor([[ 0.9722,  0.1589],\n",
              "        [ 0.8976, -0.2782],\n",
              "        [-0.1007, -0.4838],\n",
              "        [-0.2527, -1.1952],\n",
              "        [ 0.8320,  0.7421],\n",
              "        [-0.6390,  1.1987],\n",
              "        [-0.3974,  0.3412],\n",
              "        [ 1.9598,  0.8498],\n",
              "        [ 0.9134, -0.7378],\n",
              "        [ 0.6476, -0.5303],\n",
              "        [ 0.3735,  0.5088],\n",
              "        [ 0.9197,  0.7369],\n",
              "        [-0.2632, -0.7998],\n",
              "        [-0.8901,  1.7070],\n",
              "        [-2.1710,  0.4468],\n",
              "        [-0.3645, -0.0590],\n",
              "        [-0.0883,  0.4495],\n",
              "        [ 0.3032,  0.0831],\n",
              "        [ 0.3365, -2.0816],\n",
              "        [-1.3439,  0.1712],\n",
              "        [-0.6996, -0.1786],\n",
              "        [-0.7528, -0.6710],\n",
              "        [ 0.3491, -0.0991],\n",
              "        [ 0.6792,  1.0151],\n",
              "        [-2.1685,  0.2037],\n",
              "        [-0.4146, -1.0978],\n",
              "        [ 1.2748,  1.8238]])"
            ]
          },
          "metadata": {},
          "execution_count": 302
        }
      ]
    },
    {
      "cell_type": "code",
      "source": [
        "C[X].shape, C[X]"
      ],
      "metadata": {
        "colab": {
          "base_uri": "https://localhost:8080/"
        },
        "id": "JjUlI9aulN3y",
        "outputId": "34a67707-2058-4a12-de96-1bd1daeb6153"
      },
      "execution_count": 303,
      "outputs": [
        {
          "output_type": "execute_result",
          "data": {
            "text/plain": [
              "(torch.Size([228146, 3, 2]),\n",
              " tensor([[[ 0.9722,  0.1589],\n",
              "          [ 0.9722,  0.1589],\n",
              "          [ 0.9722,  0.1589]],\n",
              " \n",
              "         [[ 0.9722,  0.1589],\n",
              "          [ 0.9722,  0.1589],\n",
              "          [-0.6390,  1.1987]],\n",
              " \n",
              "         [[ 0.9722,  0.1589],\n",
              "          [-0.6390,  1.1987],\n",
              "          [-0.8901,  1.7070]],\n",
              " \n",
              "         ...,\n",
              " \n",
              "         [[ 1.2748,  1.8238],\n",
              "          [ 1.2748,  1.8238],\n",
              "          [-0.4146, -1.0978]],\n",
              " \n",
              "         [[ 1.2748,  1.8238],\n",
              "          [-0.4146, -1.0978],\n",
              "          [ 1.2748,  1.8238]],\n",
              " \n",
              "         [[-0.4146, -1.0978],\n",
              "          [ 1.2748,  1.8238],\n",
              "          [-2.1685,  0.2037]]]))"
            ]
          },
          "metadata": {},
          "execution_count": 303
        }
      ]
    },
    {
      "cell_type": "code",
      "source": [
        "emb = C[X]\n",
        "emb"
      ],
      "metadata": {
        "colab": {
          "base_uri": "https://localhost:8080/"
        },
        "id": "H20jum4slzMD",
        "outputId": "bc76ef70-d65e-4130-8bf7-165038f9044b"
      },
      "execution_count": 304,
      "outputs": [
        {
          "output_type": "execute_result",
          "data": {
            "text/plain": [
              "tensor([[[ 0.9722,  0.1589],\n",
              "         [ 0.9722,  0.1589],\n",
              "         [ 0.9722,  0.1589]],\n",
              "\n",
              "        [[ 0.9722,  0.1589],\n",
              "         [ 0.9722,  0.1589],\n",
              "         [-0.6390,  1.1987]],\n",
              "\n",
              "        [[ 0.9722,  0.1589],\n",
              "         [-0.6390,  1.1987],\n",
              "         [-0.8901,  1.7070]],\n",
              "\n",
              "        ...,\n",
              "\n",
              "        [[ 1.2748,  1.8238],\n",
              "         [ 1.2748,  1.8238],\n",
              "         [-0.4146, -1.0978]],\n",
              "\n",
              "        [[ 1.2748,  1.8238],\n",
              "         [-0.4146, -1.0978],\n",
              "         [ 1.2748,  1.8238]],\n",
              "\n",
              "        [[-0.4146, -1.0978],\n",
              "         [ 1.2748,  1.8238],\n",
              "         [-2.1685,  0.2037]]])"
            ]
          },
          "metadata": {},
          "execution_count": 304
        }
      ]
    },
    {
      "cell_type": "code",
      "source": [
        "W1 = torch.randn((6,100))\n",
        "b1 = torch.randn(100)"
      ],
      "metadata": {
        "id": "LpiSoBYGt-zU"
      },
      "execution_count": 305,
      "outputs": []
    },
    {
      "cell_type": "code",
      "source": [
        "W1.shape, b1.shape"
      ],
      "metadata": {
        "colab": {
          "base_uri": "https://localhost:8080/"
        },
        "id": "3NnTScdzuGt-",
        "outputId": "c7d87fbb-b356-4328-9e0c-e2cf59a1daf0"
      },
      "execution_count": 306,
      "outputs": [
        {
          "output_type": "execute_result",
          "data": {
            "text/plain": [
              "(torch.Size([6, 100]), torch.Size([100]))"
            ]
          },
          "metadata": {},
          "execution_count": 306
        }
      ]
    },
    {
      "cell_type": "code",
      "source": [
        "h = torch.tanh(emb.view(-1,6) @ W1 +b1)\n",
        "h.shape"
      ],
      "metadata": {
        "colab": {
          "base_uri": "https://localhost:8080/"
        },
        "id": "A7fsBzHxuUqi",
        "outputId": "4a42d378-4c41-4b15-b234-3aed2d919a1c"
      },
      "execution_count": 307,
      "outputs": [
        {
          "output_type": "execute_result",
          "data": {
            "text/plain": [
              "torch.Size([228146, 100])"
            ]
          },
          "metadata": {},
          "execution_count": 307
        }
      ]
    },
    {
      "cell_type": "code",
      "source": [
        "W2 = torch.randn((100,27))\n",
        "b2 = torch.randn(27)\n"
      ],
      "metadata": {
        "id": "4G0p7OH8usUk"
      },
      "execution_count": 308,
      "outputs": []
    },
    {
      "cell_type": "code",
      "source": [
        "logits = h @ W2 + b2\n",
        "logits.shape"
      ],
      "metadata": {
        "colab": {
          "base_uri": "https://localhost:8080/"
        },
        "id": "d0W4rNbbvbYA",
        "outputId": "6e67df62-1198-4f71-b83f-0204daf2321b"
      },
      "execution_count": 309,
      "outputs": [
        {
          "output_type": "execute_result",
          "data": {
            "text/plain": [
              "torch.Size([228146, 27])"
            ]
          },
          "metadata": {},
          "execution_count": 309
        }
      ]
    },
    {
      "cell_type": "code",
      "source": [
        "counts = logits.exp()"
      ],
      "metadata": {
        "id": "Y510Zr0AwXfu"
      },
      "execution_count": 310,
      "outputs": []
    },
    {
      "cell_type": "code",
      "source": [
        "prob = counts/counts.sum(1,keepdim=True)"
      ],
      "metadata": {
        "id": "JU_ufaBQwbKk"
      },
      "execution_count": 311,
      "outputs": []
    },
    {
      "cell_type": "code",
      "source": [
        "prob.shape"
      ],
      "metadata": {
        "colab": {
          "base_uri": "https://localhost:8080/"
        },
        "id": "hht8w-x-wiv-",
        "outputId": "ae7a8cea-6e21-414b-945d-ebb8ed7fdc44"
      },
      "execution_count": 312,
      "outputs": [
        {
          "output_type": "execute_result",
          "data": {
            "text/plain": [
              "torch.Size([228146, 27])"
            ]
          },
          "metadata": {},
          "execution_count": 312
        }
      ]
    },
    {
      "cell_type": "code",
      "source": [
        "prob"
      ],
      "metadata": {
        "colab": {
          "base_uri": "https://localhost:8080/"
        },
        "id": "l5whdixlxHyy",
        "outputId": "bc8d107d-eeb5-4427-d72a-15f084762a5a"
      },
      "execution_count": 313,
      "outputs": [
        {
          "output_type": "execute_result",
          "data": {
            "text/plain": [
              "tensor([[3.2049e-06, 7.2644e-02, 2.8463e-03,  ..., 2.5457e-05, 2.0399e-11,\n",
              "         3.4916e-10],\n",
              "        [1.8140e-08, 2.7558e-01, 1.7982e-01,  ..., 1.1461e-09, 3.6077e-06,\n",
              "         1.3734e-09],\n",
              "        [2.5777e-12, 2.6455e-06, 1.0737e-08,  ..., 3.9384e-14, 2.5888e-04,\n",
              "         5.7899e-02],\n",
              "        ...,\n",
              "        [5.4611e-13, 2.5076e-06, 7.6193e-01,  ..., 1.3762e-04, 9.1527e-10,\n",
              "         5.8979e-07],\n",
              "        [3.4186e-15, 1.0697e-07, 6.7391e-13,  ..., 1.6643e-16, 2.9074e-17,\n",
              "         6.7131e-14],\n",
              "        [6.8966e-06, 3.3712e-03, 3.0270e-06,  ..., 4.9322e-07, 1.8508e-05,\n",
              "         1.9343e-04]])"
            ]
          },
          "metadata": {},
          "execution_count": 313
        }
      ]
    },
    {
      "cell_type": "code",
      "source": [
        "Y"
      ],
      "metadata": {
        "colab": {
          "base_uri": "https://localhost:8080/"
        },
        "id": "Az8kcAbuwk1f",
        "outputId": "38e9efc5-8154-4659-c865-cca0b7596577"
      },
      "execution_count": 314,
      "outputs": [
        {
          "output_type": "execute_result",
          "data": {
            "text/plain": [
              "tensor([ 5, 13, 13,  ..., 26, 24,  0])"
            ]
          },
          "metadata": {},
          "execution_count": 314
        }
      ]
    },
    {
      "cell_type": "code",
      "source": [
        "#rewrite everything to make it reuseable"
      ],
      "metadata": {
        "id": "imZyRscVtjP7"
      },
      "execution_count": 315,
      "outputs": []
    },
    {
      "cell_type": "code",
      "source": [
        "X.shape, Y.shape"
      ],
      "metadata": {
        "colab": {
          "base_uri": "https://localhost:8080/"
        },
        "id": "u3ztsh-Kttrw",
        "outputId": "9ad350bf-9804-4592-eed2-59f83171244c"
      },
      "execution_count": 316,
      "outputs": [
        {
          "output_type": "execute_result",
          "data": {
            "text/plain": [
              "(torch.Size([228146, 3]), torch.Size([228146]))"
            ]
          },
          "metadata": {},
          "execution_count": 316
        }
      ]
    },
    {
      "cell_type": "code",
      "source": [
        "g = torch.Generator().manual_seed(2147483647)\n",
        "C = torch.randn((27,2), generator=g)\n",
        "W1 = torch.randn((6,100), generator=g)\n",
        "b1 = torch.randn(100, generator=g)\n",
        "W2 = torch.randn((100,27), generator=g)\n",
        "b2 = torch.randn(27,generator=g)\n",
        "parameters = [C, W1, b1, W2, b2]"
      ],
      "metadata": {
        "id": "TaioFTa6t_kT"
      },
      "execution_count": 317,
      "outputs": []
    },
    {
      "cell_type": "code",
      "source": [
        "sum(p.nelement() for p in parameters) #number of parameters"
      ],
      "metadata": {
        "colab": {
          "base_uri": "https://localhost:8080/"
        },
        "id": "LRh7gJuyus7r",
        "outputId": "43e163db-5eb2-4166-d82d-c7d9b49b3713"
      },
      "execution_count": 318,
      "outputs": [
        {
          "output_type": "execute_result",
          "data": {
            "text/plain": [
              "3481"
            ]
          },
          "metadata": {},
          "execution_count": 318
        }
      ]
    },
    {
      "cell_type": "code",
      "source": [
        "for p in parameters:\n",
        "  p.requires_grad = True"
      ],
      "metadata": {
        "id": "VyxhndXB1Tp-"
      },
      "execution_count": 319,
      "outputs": []
    },
    {
      "cell_type": "code",
      "source": [
        "for _ in range(100):\n",
        "\n",
        "  #minibatch construct\n",
        "  ix = torch.randint(0,X.shape[0],(32,)) #batch size = 32\n",
        "  #forward path\n",
        "  emb = C[X[ix]] #(32, 3, 2)\n",
        "  h = torch.tanh(emb.view(-1,6) @ W1 + b1) #(32,100)\n",
        "  logits = h @ W2 + b2 #(32,27)\n",
        "  #counts = logits.exp()\n",
        "  #prob = counts / counts.sum(1, keepdim= True)\n",
        "  #loss = -prob[torch.arange(32), Y].log().mean()\n",
        "  loss = F.cross_entropy(logits, Y[ix]) #Using cross_entropy is preferred.\n",
        "  print(loss.item()) #these are the loss in just 1 mini batch\n",
        "\n",
        "  #backward path\n",
        "  for p in parameters:\n",
        "    p.grad = None\n",
        "  loss.backward()\n",
        "  #update\n",
        "  for p in parameters:\n",
        "    p.data += -0.1 * p.grad #learning rate = 0.1\n"
      ],
      "metadata": {
        "colab": {
          "base_uri": "https://localhost:8080/"
        },
        "id": "6iiWXbrSu6Vf",
        "outputId": "c334df92-6f2f-4fd4-9574-83579e7c3f49"
      },
      "execution_count": 330,
      "outputs": [
        {
          "output_type": "stream",
          "name": "stdout",
          "text": [
            "2.9191455841064453\n",
            "4.25274133682251\n",
            "4.297205924987793\n",
            "3.7640435695648193\n",
            "4.127415180206299\n",
            "4.137062072753906\n",
            "3.5358126163482666\n",
            "3.8467729091644287\n",
            "2.981668710708618\n",
            "3.3077471256256104\n",
            "4.000509262084961\n",
            "3.691378593444824\n",
            "2.9315080642700195\n",
            "4.427433967590332\n",
            "3.899531364440918\n",
            "3.598517656326294\n",
            "3.683345317840576\n",
            "2.957733392715454\n",
            "4.336640357971191\n",
            "3.300666093826294\n",
            "3.3402507305145264\n",
            "3.5568649768829346\n",
            "3.716810703277588\n",
            "3.9330687522888184\n",
            "3.5113322734832764\n",
            "3.449847936630249\n",
            "3.247464656829834\n",
            "3.9812285900115967\n",
            "3.5941033363342285\n",
            "3.747068166732788\n",
            "4.042686939239502\n",
            "3.745656728744507\n",
            "3.1761038303375244\n",
            "2.9467175006866455\n",
            "3.172938108444214\n",
            "3.22823429107666\n",
            "3.2678611278533936\n",
            "4.573258876800537\n",
            "3.5203895568847656\n",
            "3.0989387035369873\n",
            "2.769001007080078\n",
            "4.067061424255371\n",
            "2.887908458709717\n",
            "3.0579452514648438\n",
            "3.632133960723877\n",
            "3.495676279067993\n",
            "4.3440842628479\n",
            "3.6374285221099854\n",
            "3.662851333618164\n",
            "3.5675840377807617\n",
            "3.1117844581604004\n",
            "2.8441085815429688\n",
            "3.3341073989868164\n",
            "3.348586082458496\n",
            "3.0525193214416504\n",
            "3.477741003036499\n",
            "2.5165786743164062\n",
            "3.2915592193603516\n",
            "3.81417179107666\n",
            "3.1756017208099365\n",
            "3.233588218688965\n",
            "2.7978549003601074\n",
            "3.0187716484069824\n",
            "3.7645957469940186\n",
            "3.6668553352355957\n",
            "2.40105938911438\n",
            "3.1872398853302\n",
            "2.806997060775757\n",
            "3.4864726066589355\n",
            "3.7932796478271484\n",
            "3.207362413406372\n",
            "3.6530447006225586\n",
            "3.0891811847686768\n",
            "3.1101644039154053\n",
            "3.2001209259033203\n",
            "3.5444068908691406\n",
            "4.018242835998535\n",
            "3.161961317062378\n",
            "2.926257848739624\n",
            "3.629474401473999\n",
            "3.248281717300415\n",
            "2.6850955486297607\n",
            "3.918025493621826\n",
            "3.1636171340942383\n",
            "3.1205129623413086\n",
            "3.8253750801086426\n",
            "3.0370233058929443\n",
            "3.5014450550079346\n",
            "3.2874910831451416\n",
            "3.0393226146698\n",
            "2.8784356117248535\n",
            "2.5010483264923096\n",
            "2.4316599369049072\n",
            "2.913504123687744\n",
            "2.9545915126800537\n",
            "3.188405752182007\n",
            "2.5677692890167236\n",
            "2.9767165184020996\n",
            "3.304931879043579\n",
            "3.023223876953125\n"
          ]
        }
      ]
    },
    {
      "cell_type": "code",
      "source": [
        "#evaluate the loss in all records\n",
        "emb = C[X] #([228146, 3, 2])\n",
        "h = torch.tanh(emb.view(-1,6) @ W1 + b1) #([228146, 100])\n",
        "logits = h @ W2 + b2 #(228146, 27)\n",
        "loss = F.cross_entropy(logits,Y)\n",
        "loss"
      ],
      "metadata": {
        "colab": {
          "base_uri": "https://localhost:8080/"
        },
        "id": "VNIhNdsjzaSx",
        "outputId": "f7c4bf6b-9d97-4172-95bf-1ef2f3d5f824"
      },
      "execution_count": 336,
      "outputs": [
        {
          "output_type": "execute_result",
          "data": {
            "text/plain": [
              "tensor(3.1296, grad_fn=<NllLossBackward0>)"
            ]
          },
          "metadata": {},
          "execution_count": 336
        }
      ]
    }
  ]
}
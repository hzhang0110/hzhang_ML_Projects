{
  "nbformat": 4,
  "nbformat_minor": 0,
  "metadata": {
    "colab": {
      "provenance": [],
      "mount_file_id": "1UInif-saR1l5dm00ebhZSN0jR30u3FxZ",
      "authorship_tag": "ABX9TyNawjpx/ZyvWhD/NEh1AbEt",
      "include_colab_link": true
    },
    "kernelspec": {
      "name": "python3",
      "display_name": "Python 3"
    },
    "language_info": {
      "name": "python"
    }
  },
  "cells": [
    {
      "cell_type": "markdown",
      "metadata": {
        "id": "view-in-github",
        "colab_type": "text"
      },
      "source": [
        "<a href=\"https://colab.research.google.com/github/hzhang0110/hzhang_ML_Projects/blob/main/makemore_mlp.ipynb\" target=\"_parent\"><img src=\"https://colab.research.google.com/assets/colab-badge.svg\" alt=\"Open In Colab\"/></a>"
      ]
    },
    {
      "cell_type": "code",
      "execution_count": 297,
      "metadata": {
        "id": "sHXxJA9AY-H0"
      },
      "outputs": [],
      "source": [
        "import torch\n",
        "import torch.nn.functional as F\n",
        "import matplotlib.pyplot as plt #for charts\n"
      ]
    },
    {
      "cell_type": "code",
      "source": [
        "#read all words\n",
        "words = open('/content/drive/MyDrive/machine_learning_files/names.txt', 'r').read().splitlines()\n",
        "words[:8]"
      ],
      "metadata": {
        "colab": {
          "base_uri": "https://localhost:8080/"
        },
        "id": "7Y47MYo-ZRYL",
        "outputId": "3480c828-4ef3-448f-a2df-c10bba9b1e43"
      },
      "execution_count": 298,
      "outputs": [
        {
          "output_type": "execute_result",
          "data": {
            "text/plain": [
              "['emma', 'olivia', 'ava', 'isabella', 'sophia', 'charlotte', 'mia', 'amelia']"
            ]
          },
          "metadata": {},
          "execution_count": 298
        }
      ]
    },
    {
      "cell_type": "code",
      "source": [
        "len(words)"
      ],
      "metadata": {
        "colab": {
          "base_uri": "https://localhost:8080/"
        },
        "id": "cJQfLtvUZtgh",
        "outputId": "b7071405-b491-4af5-a3a5-acc576a41574"
      },
      "execution_count": 299,
      "outputs": [
        {
          "output_type": "execute_result",
          "data": {
            "text/plain": [
              "32033"
            ]
          },
          "metadata": {},
          "execution_count": 299
        }
      ]
    },
    {
      "cell_type": "code",
      "source": [
        "#build the vocabulary of characters and mapping to/from integers\n",
        "chars = sorted(list(set(''.join(words))))\n",
        "stoi = {s:i+1 for i,s in enumerate(chars)}\n",
        "stoi['.'] = 0\n",
        "itos = {i:s for s,i in stoi.items()}\n",
        "print(stoi)\n",
        "print(itos)\n"
      ],
      "metadata": {
        "colab": {
          "base_uri": "https://localhost:8080/"
        },
        "id": "r6b-Rx1KZxaM",
        "outputId": "dfb96e24-8f0e-40e7-f856-f95705d1dea3"
      },
      "execution_count": 300,
      "outputs": [
        {
          "output_type": "stream",
          "name": "stdout",
          "text": [
            "{'a': 1, 'b': 2, 'c': 3, 'd': 4, 'e': 5, 'f': 6, 'g': 7, 'h': 8, 'i': 9, 'j': 10, 'k': 11, 'l': 12, 'm': 13, 'n': 14, 'o': 15, 'p': 16, 'q': 17, 'r': 18, 's': 19, 't': 20, 'u': 21, 'v': 22, 'w': 23, 'x': 24, 'y': 25, 'z': 26, '.': 0}\n",
            "{1: 'a', 2: 'b', 3: 'c', 4: 'd', 5: 'e', 6: 'f', 7: 'g', 8: 'h', 9: 'i', 10: 'j', 11: 'k', 12: 'l', 13: 'm', 14: 'n', 15: 'o', 16: 'p', 17: 'q', 18: 'r', 19: 's', 20: 't', 21: 'u', 22: 'v', 23: 'w', 24: 'x', 25: 'y', 26: 'z', 0: '.'}\n"
          ]
        }
      ]
    },
    {
      "cell_type": "code",
      "source": [
        "#build the dataset\n",
        "\n",
        "block_size = 3\n",
        "X,Y = [], []\n",
        "for w in words:\n",
        "\n",
        "  #print(w)\n",
        "  context = [0] * block_size\n",
        "  for ch in w + '.':\n",
        "    ix = stoi[ch]\n",
        "    X.append(context)\n",
        "    Y.append(ix)\n",
        "    #print(''.join(itos[i] for i in context), '--->', itos[ix])\n",
        "    context = context[1:] + [ix] #crop and append\n",
        "\n",
        "X = torch.tensor(X)\n",
        "Y = torch.tensor(Y)\n"
      ],
      "metadata": {
        "id": "oxMxLsEDaMA7"
      },
      "execution_count": 301,
      "outputs": []
    },
    {
      "cell_type": "code",
      "source": [
        "X.shape, X.dtype, Y.shape, Y.dtype"
      ],
      "metadata": {
        "colab": {
          "base_uri": "https://localhost:8080/"
        },
        "id": "eUoD3ZYyjIcx",
        "outputId": "3edd5be4-0177-44a5-c904-59b7e5eb146d"
      },
      "execution_count": 302,
      "outputs": [
        {
          "output_type": "execute_result",
          "data": {
            "text/plain": [
              "(torch.Size([228146, 3]), torch.int64, torch.Size([228146]), torch.int64)"
            ]
          },
          "metadata": {},
          "execution_count": 302
        }
      ]
    },
    {
      "cell_type": "code",
      "source": [
        "X, Y"
      ],
      "metadata": {
        "colab": {
          "base_uri": "https://localhost:8080/"
        },
        "id": "qcI-FQTnjbIB",
        "outputId": "5c77aa90-a59a-4440-d0ca-12ee40ebb1a3"
      },
      "execution_count": 303,
      "outputs": [
        {
          "output_type": "execute_result",
          "data": {
            "text/plain": [
              "(tensor([[ 0,  0,  0],\n",
              "         [ 0,  0,  5],\n",
              "         [ 0,  5, 13],\n",
              "         ...,\n",
              "         [26, 26, 25],\n",
              "         [26, 25, 26],\n",
              "         [25, 26, 24]]),\n",
              " tensor([ 5, 13, 13,  ..., 26, 24,  0]))"
            ]
          },
          "metadata": {},
          "execution_count": 303
        }
      ]
    },
    {
      "cell_type": "code",
      "source": [
        "C = torch.randn((27,2))\n",
        "C"
      ],
      "metadata": {
        "colab": {
          "base_uri": "https://localhost:8080/"
        },
        "id": "PcfYq2Jgjgh4",
        "outputId": "df8734cb-c77e-4d76-9567-8bb7c630b7a4"
      },
      "execution_count": 304,
      "outputs": [
        {
          "output_type": "execute_result",
          "data": {
            "text/plain": [
              "tensor([[-0.7577, -0.0776],\n",
              "        [-1.6664, -0.3446],\n",
              "        [ 0.3964,  0.0500],\n",
              "        [ 0.1160,  0.3633],\n",
              "        [ 0.8447, -0.4445],\n",
              "        [ 0.6051,  0.6664],\n",
              "        [-1.0627, -1.6362],\n",
              "        [ 1.4136,  0.7254],\n",
              "        [ 0.9719, -2.3917],\n",
              "        [ 1.4050, -0.3011],\n",
              "        [-0.6354,  0.5886],\n",
              "        [-1.3680, -1.1171],\n",
              "        [ 1.0244,  0.3242],\n",
              "        [-0.7243,  0.7447],\n",
              "        [ 1.1582,  2.2711],\n",
              "        [ 0.6815, -1.0633],\n",
              "        [ 0.4605, -0.1675],\n",
              "        [ 0.2622, -0.0231],\n",
              "        [-0.0036,  0.3460],\n",
              "        [ 0.7771, -0.2878],\n",
              "        [-1.5505, -0.7628],\n",
              "        [ 0.1015,  0.8012],\n",
              "        [-1.3672, -0.7495],\n",
              "        [-0.6756, -0.4915],\n",
              "        [-0.1284,  1.9605],\n",
              "        [ 0.2647, -0.6386],\n",
              "        [-0.8789,  0.1171]])"
            ]
          },
          "metadata": {},
          "execution_count": 304
        }
      ]
    },
    {
      "cell_type": "code",
      "source": [
        "C[X].shape, C[X]"
      ],
      "metadata": {
        "colab": {
          "base_uri": "https://localhost:8080/"
        },
        "id": "JjUlI9aulN3y",
        "outputId": "8fce5143-d665-44c1-9727-b43f7509d772"
      },
      "execution_count": 305,
      "outputs": [
        {
          "output_type": "execute_result",
          "data": {
            "text/plain": [
              "(torch.Size([228146, 3, 2]),\n",
              " tensor([[[-0.7577, -0.0776],\n",
              "          [-0.7577, -0.0776],\n",
              "          [-0.7577, -0.0776]],\n",
              " \n",
              "         [[-0.7577, -0.0776],\n",
              "          [-0.7577, -0.0776],\n",
              "          [ 0.6051,  0.6664]],\n",
              " \n",
              "         [[-0.7577, -0.0776],\n",
              "          [ 0.6051,  0.6664],\n",
              "          [-0.7243,  0.7447]],\n",
              " \n",
              "         ...,\n",
              " \n",
              "         [[-0.8789,  0.1171],\n",
              "          [-0.8789,  0.1171],\n",
              "          [ 0.2647, -0.6386]],\n",
              " \n",
              "         [[-0.8789,  0.1171],\n",
              "          [ 0.2647, -0.6386],\n",
              "          [-0.8789,  0.1171]],\n",
              " \n",
              "         [[ 0.2647, -0.6386],\n",
              "          [-0.8789,  0.1171],\n",
              "          [-0.1284,  1.9605]]]))"
            ]
          },
          "metadata": {},
          "execution_count": 305
        }
      ]
    },
    {
      "cell_type": "code",
      "source": [
        "emb = C[X]\n",
        "emb"
      ],
      "metadata": {
        "colab": {
          "base_uri": "https://localhost:8080/"
        },
        "id": "H20jum4slzMD",
        "outputId": "010264af-c4a5-4648-f060-3b6896795d88"
      },
      "execution_count": 306,
      "outputs": [
        {
          "output_type": "execute_result",
          "data": {
            "text/plain": [
              "tensor([[[-0.7577, -0.0776],\n",
              "         [-0.7577, -0.0776],\n",
              "         [-0.7577, -0.0776]],\n",
              "\n",
              "        [[-0.7577, -0.0776],\n",
              "         [-0.7577, -0.0776],\n",
              "         [ 0.6051,  0.6664]],\n",
              "\n",
              "        [[-0.7577, -0.0776],\n",
              "         [ 0.6051,  0.6664],\n",
              "         [-0.7243,  0.7447]],\n",
              "\n",
              "        ...,\n",
              "\n",
              "        [[-0.8789,  0.1171],\n",
              "         [-0.8789,  0.1171],\n",
              "         [ 0.2647, -0.6386]],\n",
              "\n",
              "        [[-0.8789,  0.1171],\n",
              "         [ 0.2647, -0.6386],\n",
              "         [-0.8789,  0.1171]],\n",
              "\n",
              "        [[ 0.2647, -0.6386],\n",
              "         [-0.8789,  0.1171],\n",
              "         [-0.1284,  1.9605]]])"
            ]
          },
          "metadata": {},
          "execution_count": 306
        }
      ]
    },
    {
      "cell_type": "code",
      "source": [
        "W1 = torch.randn((6,100))\n",
        "b1 = torch.randn(100)"
      ],
      "metadata": {
        "id": "LpiSoBYGt-zU"
      },
      "execution_count": 307,
      "outputs": []
    },
    {
      "cell_type": "code",
      "source": [
        "W1.shape, b1.shape"
      ],
      "metadata": {
        "colab": {
          "base_uri": "https://localhost:8080/"
        },
        "id": "3NnTScdzuGt-",
        "outputId": "ce151fc1-6b8e-44d7-ba18-5c20d73c2fa9"
      },
      "execution_count": 308,
      "outputs": [
        {
          "output_type": "execute_result",
          "data": {
            "text/plain": [
              "(torch.Size([6, 100]), torch.Size([100]))"
            ]
          },
          "metadata": {},
          "execution_count": 308
        }
      ]
    },
    {
      "cell_type": "code",
      "source": [
        "h = torch.tanh(emb.view(-1,6) @ W1 +b1)\n",
        "h.shape"
      ],
      "metadata": {
        "colab": {
          "base_uri": "https://localhost:8080/"
        },
        "id": "A7fsBzHxuUqi",
        "outputId": "44b4c978-518a-43d8-b050-90a660b7d0a7"
      },
      "execution_count": 309,
      "outputs": [
        {
          "output_type": "execute_result",
          "data": {
            "text/plain": [
              "torch.Size([228146, 100])"
            ]
          },
          "metadata": {},
          "execution_count": 309
        }
      ]
    },
    {
      "cell_type": "code",
      "source": [
        "W2 = torch.randn((100,27))\n",
        "b2 = torch.randn(27)\n"
      ],
      "metadata": {
        "id": "4G0p7OH8usUk"
      },
      "execution_count": 310,
      "outputs": []
    },
    {
      "cell_type": "code",
      "source": [
        "logits = h @ W2 + b2\n",
        "logits.shape"
      ],
      "metadata": {
        "colab": {
          "base_uri": "https://localhost:8080/"
        },
        "id": "d0W4rNbbvbYA",
        "outputId": "aa9cfba1-89b1-4abe-8781-70cdebf67c47"
      },
      "execution_count": 311,
      "outputs": [
        {
          "output_type": "execute_result",
          "data": {
            "text/plain": [
              "torch.Size([228146, 27])"
            ]
          },
          "metadata": {},
          "execution_count": 311
        }
      ]
    },
    {
      "cell_type": "code",
      "source": [
        "counts = logits.exp()"
      ],
      "metadata": {
        "id": "Y510Zr0AwXfu"
      },
      "execution_count": 312,
      "outputs": []
    },
    {
      "cell_type": "code",
      "source": [
        "prob = counts/counts.sum(1,keepdim=True)"
      ],
      "metadata": {
        "id": "JU_ufaBQwbKk"
      },
      "execution_count": 313,
      "outputs": []
    },
    {
      "cell_type": "code",
      "source": [
        "prob.shape"
      ],
      "metadata": {
        "colab": {
          "base_uri": "https://localhost:8080/"
        },
        "id": "hht8w-x-wiv-",
        "outputId": "e2627ab1-45c8-4c89-a98a-afab83dadb84"
      },
      "execution_count": 314,
      "outputs": [
        {
          "output_type": "execute_result",
          "data": {
            "text/plain": [
              "torch.Size([228146, 27])"
            ]
          },
          "metadata": {},
          "execution_count": 314
        }
      ]
    },
    {
      "cell_type": "code",
      "source": [
        "prob"
      ],
      "metadata": {
        "colab": {
          "base_uri": "https://localhost:8080/"
        },
        "id": "l5whdixlxHyy",
        "outputId": "893d2554-c523-42ee-8899-0eba74d888f0"
      },
      "execution_count": 315,
      "outputs": [
        {
          "output_type": "execute_result",
          "data": {
            "text/plain": [
              "tensor([[4.0149e-08, 9.1185e-11, 4.3476e-06,  ..., 1.8988e-04, 1.3830e-09,\n",
              "         1.1279e-05],\n",
              "        [2.7383e-02, 2.5880e-16, 2.6844e-03,  ..., 8.8153e-07, 2.0242e-08,\n",
              "         2.5673e-02],\n",
              "        [1.9345e-11, 1.0585e-07, 1.2722e-12,  ..., 9.8571e-01, 1.6784e-13,\n",
              "         7.3160e-09],\n",
              "        ...,\n",
              "        [2.0963e-01, 1.2893e-13, 1.0585e-04,  ..., 9.5960e-06, 1.1384e-07,\n",
              "         1.4736e-05],\n",
              "        [4.2800e-06, 1.8152e-09, 4.2217e-11,  ..., 2.1221e-02, 4.2291e-08,\n",
              "         1.0381e-03],\n",
              "        [5.4487e-09, 3.2522e-14, 1.6139e-06,  ..., 2.8700e-09, 3.3262e-11,\n",
              "         1.3454e-08]])"
            ]
          },
          "metadata": {},
          "execution_count": 315
        }
      ]
    },
    {
      "cell_type": "code",
      "source": [
        "Y"
      ],
      "metadata": {
        "colab": {
          "base_uri": "https://localhost:8080/"
        },
        "id": "Az8kcAbuwk1f",
        "outputId": "d1586bf5-99f5-4e4f-d5b3-e7efce2dd610"
      },
      "execution_count": 316,
      "outputs": [
        {
          "output_type": "execute_result",
          "data": {
            "text/plain": [
              "tensor([ 5, 13, 13,  ..., 26, 24,  0])"
            ]
          },
          "metadata": {},
          "execution_count": 316
        }
      ]
    },
    {
      "cell_type": "code",
      "source": [
        "#rewrite everything to make it reuseable"
      ],
      "metadata": {
        "id": "imZyRscVtjP7"
      },
      "execution_count": 317,
      "outputs": []
    },
    {
      "cell_type": "code",
      "source": [
        "X.shape, Y.shape"
      ],
      "metadata": {
        "colab": {
          "base_uri": "https://localhost:8080/"
        },
        "id": "u3ztsh-Kttrw",
        "outputId": "681992fd-b95c-4516-e33e-b190ddc70e19"
      },
      "execution_count": 318,
      "outputs": [
        {
          "output_type": "execute_result",
          "data": {
            "text/plain": [
              "(torch.Size([228146, 3]), torch.Size([228146]))"
            ]
          },
          "metadata": {},
          "execution_count": 318
        }
      ]
    },
    {
      "cell_type": "code",
      "source": [
        "g = torch.Generator().manual_seed(2147483647)\n",
        "C = torch.randn((27,2), generator=g)\n",
        "W1 = torch.randn((6,100), generator=g)\n",
        "b1 = torch.randn(100, generator=g)\n",
        "W2 = torch.randn((100,27), generator=g)\n",
        "b2 = torch.randn(27,generator=g)\n",
        "parameters = [C, W1, b1, W2, b2]"
      ],
      "metadata": {
        "id": "TaioFTa6t_kT"
      },
      "execution_count": 319,
      "outputs": []
    },
    {
      "cell_type": "code",
      "source": [
        "sum(p.nelement() for p in parameters) #number of parameters"
      ],
      "metadata": {
        "colab": {
          "base_uri": "https://localhost:8080/"
        },
        "id": "LRh7gJuyus7r",
        "outputId": "6d7439d0-ff25-4450-859f-79b6031abcd7"
      },
      "execution_count": 320,
      "outputs": [
        {
          "output_type": "execute_result",
          "data": {
            "text/plain": [
              "3481"
            ]
          },
          "metadata": {},
          "execution_count": 320
        }
      ]
    },
    {
      "cell_type": "code",
      "source": [
        "for p in parameters:\n",
        "  p.requires_grad = True"
      ],
      "metadata": {
        "id": "VyxhndXB1Tp-"
      },
      "execution_count": 321,
      "outputs": []
    },
    {
      "cell_type": "code",
      "source": [
        "lre = torch.linspace(-3,0,1000)\n",
        "lrs = 10**lre"
      ],
      "metadata": {
        "id": "k8RLazowAWPM"
      },
      "execution_count": 322,
      "outputs": []
    },
    {
      "cell_type": "code",
      "source": [
        "lri = []\n",
        "lossi = []\n",
        "for i in range(1000):\n",
        "\n",
        "  #minibatch construct\n",
        "  ix = torch.randint(0,X.shape[0],(32,)) #batch size = 32\n",
        "  #forward path\n",
        "  emb = C[X[ix]] #(32, 3, 2)\n",
        "  h = torch.tanh(emb.view(-1,6) @ W1 + b1) #(32,100)\n",
        "  logits = h @ W2 + b2 #(32,27)\n",
        "  #counts = logits.exp()\n",
        "  #prob = counts / counts.sum(1, keepdim= True)\n",
        "  #loss = -prob[torch.arange(32), Y].log().mean()\n",
        "  loss = F.cross_entropy(logits, Y[ix]) #Using cross_entropy is preferred.\n",
        "  #print(loss.item()) #these are the loss in just 1 mini batch\n",
        "\n",
        "  #backward path\n",
        "  for p in parameters:\n",
        "    p.grad = None\n",
        "  loss.backward()\n",
        "  #update\n",
        "  lr = lrs[i]\n",
        "  #lr = 10**-1\n",
        "  for p in parameters:\n",
        "    p.data += -lr * p.grad #learning rate = 0.1\n",
        "\n",
        "  #track stats\n",
        "  lri.append(lre[i])\n",
        "  lossi.append(loss.item())\n"
      ],
      "metadata": {
        "id": "6iiWXbrSu6Vf"
      },
      "execution_count": 323,
      "outputs": []
    },
    {
      "cell_type": "markdown",
      "source": [
        "### **Plot the loss by learn rate. The optimal learning rate is around 0.1**"
      ],
      "metadata": {
        "id": "mByo176rFZl-"
      }
    },
    {
      "cell_type": "code",
      "source": [
        "plt.plot(lri,lossi)"
      ],
      "metadata": {
        "colab": {
          "base_uri": "https://localhost:8080/",
          "height": 447
        },
        "id": "iAN7MwoQBiZD",
        "outputId": "040fbc43-39cd-4cbb-9095-240c5e6c4f23"
      },
      "execution_count": 324,
      "outputs": [
        {
          "output_type": "execute_result",
          "data": {
            "text/plain": [
              "[<matplotlib.lines.Line2D at 0x7b00fbc5ca30>]"
            ]
          },
          "metadata": {},
          "execution_count": 324
        },
        {
          "output_type": "display_data",
          "data": {
            "text/plain": [
              "<Figure size 640x480 with 1 Axes>"
            ],
            "image/png": "[encoded data removed]"
          },
          "metadata": {}
        }
      ]
    },
    {
      "cell_type": "code",
      "source": [
        "#evaluate the loss in all records\n",
        "emb = C[X] #([228146, 3, 2])\n",
        "h = torch.tanh(emb.view(-1,6) @ W1 + b1) #([228146, 100])\n",
        "logits = h @ W2 + b2 #(228146, 27)\n",
        "loss = F.cross_entropy(logits,Y)\n",
        "loss"
      ],
      "metadata": {
        "colab": {
          "base_uri": "https://localhost:8080/"
        },
        "id": "VNIhNdsjzaSx",
        "outputId": "39cb3ead-c0ed-41dd-ac88-af836dc428f5"
      },
      "execution_count": 325,
      "outputs": [
        {
          "output_type": "execute_result",
          "data": {
            "text/plain": [
              "tensor(6.3970, grad_fn=<NllLossBackward0>)"
            ]
          },
          "metadata": {},
          "execution_count": 325
        }
      ]
    },
    {
      "cell_type": "code",
      "source": [
        "#training split, dev/validation split, test split\n",
        "#80%, 10%, 10%\n"
      ],
      "metadata": {
        "id": "zkHNE1C8ESQx"
      },
      "execution_count": 326,
      "outputs": []
    },
    {
      "cell_type": "markdown",
      "source": [
        "# Next, add train test split, and re-build the code"
      ],
      "metadata": {
        "id": "dP9Q7b5kGQ0g"
      }
    },
    {
      "cell_type": "code",
      "source": [
        "# build the dataset\n",
        "\n",
        "def build_dataset(words):\n",
        "  block_size = 3 # context length: how many characters do we take to predict the next one?\n",
        "  X, Y = [], []\n",
        "  for w in words:\n",
        "\n",
        "    #print(w)\n",
        "    context = [0] * block_size\n",
        "    for ch in w + '.':\n",
        "      ix = stoi[ch]\n",
        "      X.append(context)\n",
        "      Y.append(ix)\n",
        "      #print(''.join(itos[i] for i in context), '--->', itos[ix])\n",
        "      context = context[1:] + [ix] # crop and append\n",
        "\n",
        "  X = torch.tensor(X)\n",
        "  Y = torch.tensor(Y)\n",
        "  print(X.shape, Y.shape)\n",
        "  return X, Y\n",
        "\n",
        "import random\n",
        "random.seed(42)\n",
        "random.shuffle(words)\n",
        "n1 = int(0.8*len(words))\n",
        "n2 = int(0.9*len(words))\n",
        "\n",
        "Xtr, Ytr = build_dataset(words[:n1])\n",
        "Xdev, Ydev = build_dataset(words[n1:n2])\n",
        "Xte, Yte = build_dataset(words[n2:])"
      ],
      "metadata": {
        "colab": {
          "base_uri": "https://localhost:8080/"
        },
        "id": "qKDe3zT5F5De",
        "outputId": "f84e216e-f771-44da-9483-913dc8a47f97"
      },
      "execution_count": 327,
      "outputs": [
        {
          "output_type": "stream",
          "name": "stdout",
          "text": [
            "torch.Size([182625, 3]) torch.Size([182625])\n",
            "torch.Size([22655, 3]) torch.Size([22655])\n",
            "torch.Size([22866, 3]) torch.Size([22866])\n"
          ]
        }
      ]
    },
    {
      "cell_type": "code",
      "source": [
        "len(words), n1, n2"
      ],
      "metadata": {
        "colab": {
          "base_uri": "https://localhost:8080/"
        },
        "id": "3yxOnB88HDLN",
        "outputId": "14d7ba40-5e88-4a2f-ddac-06acd71659e7"
      },
      "execution_count": 328,
      "outputs": [
        {
          "output_type": "execute_result",
          "data": {
            "text/plain": [
              "(32033, 25626, 28829)"
            ]
          },
          "metadata": {},
          "execution_count": 328
        }
      ]
    },
    {
      "cell_type": "code",
      "source": [
        "Xtr.shape, Ytr.shape"
      ],
      "metadata": {
        "colab": {
          "base_uri": "https://localhost:8080/"
        },
        "id": "Zz3J9E2-HkVC",
        "outputId": "4e3f9ef1-2a6b-409e-e0f3-cd3143e1d269"
      },
      "execution_count": 329,
      "outputs": [
        {
          "output_type": "execute_result",
          "data": {
            "text/plain": [
              "(torch.Size([182625, 3]), torch.Size([182625]))"
            ]
          },
          "metadata": {},
          "execution_count": 329
        }
      ]
    },
    {
      "cell_type": "code",
      "source": [
        "g = torch.Generator().manual_seed(2147483647)\n",
        "C = torch.randn((27,10), generator=g)\n",
        "W1 = torch.randn((30,200), generator=g)\n",
        "b1 = torch.randn(200, generator=g)\n",
        "W2 = torch.randn((200,27), generator=g)\n",
        "b2 = torch.randn(27,generator=g)\n",
        "parameters = [C, W1, b1, W2, b2]"
      ],
      "metadata": {
        "id": "FfWPqfVOIdm8"
      },
      "execution_count": 400,
      "outputs": []
    },
    {
      "cell_type": "code",
      "source": [
        "sum(p.nelement() for p in parameters) #number of parameters"
      ],
      "metadata": {
        "colab": {
          "base_uri": "https://localhost:8080/"
        },
        "id": "o-SWiXd7LaN9",
        "outputId": "ade5ddb8-db3e-4104-f186-da7ae495859b"
      },
      "execution_count": 401,
      "outputs": [
        {
          "output_type": "execute_result",
          "data": {
            "text/plain": [
              "11897"
            ]
          },
          "metadata": {},
          "execution_count": 401
        }
      ]
    },
    {
      "cell_type": "code",
      "source": [
        "for p in parameters:\n",
        "  p.requires_grad = True"
      ],
      "metadata": {
        "id": "Fk5ZH6m4Iz3_"
      },
      "execution_count": 402,
      "outputs": []
    },
    {
      "cell_type": "code",
      "source": [
        "lri = []\n",
        "lossi = []\n",
        "stepi = []"
      ],
      "metadata": {
        "id": "W7HFd4kTPabb"
      },
      "execution_count": 403,
      "outputs": []
    },
    {
      "cell_type": "code",
      "source": [
        "\n",
        "\n",
        "for i in range(200000):\n",
        "\n",
        "  #minibatch construct\n",
        "  ix = torch.randint(0,Xtr.shape[0],(32,)) #batch size = 32\n",
        "  #forward path\n",
        "  emb = C[Xtr[ix]] #(32, 3, 2)\n",
        "  h = torch.tanh(emb.view(-1,30) @ W1 + b1) #(32,100)\n",
        "  logits = h @ W2 + b2 #(32,27)\n",
        "  #counts = logits.exp()\n",
        "  #prob = counts / counts.sum(1, keepdim= True)\n",
        "  #loss = -prob[torch.arange(32), Y].log().mean()\n",
        "  loss = F.cross_entropy(logits, Ytr[ix]) #Using cross_entropy is preferred.\n",
        "  #print(loss.item()) #these are the loss in just 1 mini batch\n",
        "\n",
        "  #backward path\n",
        "  for p in parameters:\n",
        "    p.grad = None\n",
        "  loss.backward()\n",
        "  #update\n",
        "  lr = 0.1 if i < 100000 else 0.01\n",
        "  for p in parameters:\n",
        "    p.data += -lr * p.grad #learning rate = 0.1\n",
        "\n",
        "  #track stats\n",
        "  #lri.append(lre[i])\n",
        "  stepi.append(i)\n",
        "  lossi.append(loss.log10().item())"
      ],
      "metadata": {
        "id": "yv-gdbMJIi3c"
      },
      "execution_count": 404,
      "outputs": []
    },
    {
      "cell_type": "code",
      "source": [
        "plt.plot(stepi, lossi)"
      ],
      "metadata": {
        "colab": {
          "base_uri": "https://localhost:8080/",
          "height": 447
        },
        "id": "TlqQgGDwMI_O",
        "outputId": "3b49dfaf-aff0-4af7-eab6-5c5d1927fce5"
      },
      "execution_count": 405,
      "outputs": [
        {
          "output_type": "execute_result",
          "data": {
            "text/plain": [
              "[<matplotlib.lines.Line2D at 0x7b00f3a82050>]"
            ]
          },
          "metadata": {},
          "execution_count": 405
        },
        {
          "output_type": "display_data",
          "data": {
            "text/plain": [
              "<Figure size 640x480 with 1 Axes>"
            ],
            "image/png": "[encoded data removed]"
          },
          "metadata": {}
        }
      ]
    },
    {
      "cell_type": "code",
      "source": [
        "print(loss.item())"
      ],
      "metadata": {
        "colab": {
          "base_uri": "https://localhost:8080/"
        },
        "id": "y1VEBdv0JGvY",
        "outputId": "a1f0cbd3-b7bd-4a36-dedb-7286121db5fa"
      },
      "execution_count": 406,
      "outputs": [
        {
          "output_type": "stream",
          "name": "stdout",
          "text": [
            "1.9397225379943848\n"
          ]
        }
      ]
    },
    {
      "cell_type": "code",
      "source": [
        "#evaluate the loss in training set\n",
        "emb = C[Xtr]\n",
        "h = torch.tanh(emb.view(-1,30) @ W1 + b1) #([228146, 100])\n",
        "logits = h @ W2 + b2 #(228146, 27)\n",
        "loss = F.cross_entropy(logits,Ytr)\n",
        "loss"
      ],
      "metadata": {
        "colab": {
          "base_uri": "https://localhost:8080/"
        },
        "id": "T-gt8bTIKchb",
        "outputId": "a7479b88-f283-4a80-a9cb-017a141abe95"
      },
      "execution_count": 407,
      "outputs": [
        {
          "output_type": "execute_result",
          "data": {
            "text/plain": [
              "tensor(2.1292, grad_fn=<NllLossBackward0>)"
            ]
          },
          "metadata": {},
          "execution_count": 407
        }
      ]
    },
    {
      "cell_type": "code",
      "source": [
        "#evaluate the loss in all records\n",
        "emb = C[Xdev]\n",
        "h = torch.tanh(emb.view(-1,30) @ W1 + b1) #([228146, 100])\n",
        "logits = h @ W2 + b2 #(228146, 27)\n",
        "loss = F.cross_entropy(logits,Ydev)\n",
        "loss\n",
        "#similar loss between train and dev"
      ],
      "metadata": {
        "colab": {
          "base_uri": "https://localhost:8080/"
        },
        "id": "3QFY9zdWJ_cV",
        "outputId": "1dde9364-25ff-4e86-ecd5-5ea4f7db9c1d"
      },
      "execution_count": 408,
      "outputs": [
        {
          "output_type": "execute_result",
          "data": {
            "text/plain": [
              "tensor(2.1710, grad_fn=<NllLossBackward0>)"
            ]
          },
          "metadata": {},
          "execution_count": 408
        }
      ]
    },
    {
      "cell_type": "code",
      "source": [
        "# visualize dimensions 0 and 1 of the embedding matrix C for all characters\n",
        "plt.figure(figsize=(8,8))\n",
        "plt.scatter(C[:,0].data, C[:,1].data, s=200)\n",
        "for i in range(C.shape[0]):\n",
        "    plt.text(C[i,0].item(), C[i,1].item(), itos[i], ha=\"center\", va=\"center\", color='white')\n",
        "plt.grid('minor')"
      ],
      "metadata": {
        "colab": {
          "base_uri": "https://localhost:8080/",
          "height": 676
        },
        "id": "W1z0tbX6KjVO",
        "outputId": "8659040e-6014-46b3-a02b-9c18123e6d1e"
      },
      "execution_count": 409,
      "outputs": [
        {
          "output_type": "display_data",
          "data": {
            "text/plain": [
              "<Figure size 800x800 with 1 Axes>"
            ],
            "image/png": "[encoded data removed]"
          },
          "metadata": {}
        }
      ]
    },
    {
      "cell_type": "code",
      "source": [
        "# sample from the model\n",
        "g = torch.Generator().manual_seed(2147483647 + 10)\n",
        "\n",
        "for _ in range(100):\n",
        "\n",
        "    out = []\n",
        "    context = [0] * block_size # initialize with all ...\n",
        "    while True:\n",
        "      emb = C[torch.tensor([context])] # (1,block_size,d)\n",
        "      h = torch.tanh(emb.view(1, -1) @ W1 + b1)\n",
        "      logits = h @ W2 + b2\n",
        "      probs = F.softmax(logits, dim=1)\n",
        "      ix = torch.multinomial(probs, num_samples=1, generator=g).item()\n",
        "      context = context[1:] + [ix]\n",
        "      out.append(ix)\n",
        "      if ix == 0:\n",
        "        break\n",
        "\n",
        "    print(''.join(itos[i] for i in out))"
      ],
      "metadata": {
        "colab": {
          "base_uri": "https://localhost:8080/"
        },
        "id": "Xk78n6vKRX-M",
        "outputId": "cfb260fb-cbe3-48e2-851c-3847b5a0a6bb"
      },
      "execution_count": 411,
      "outputs": [
        {
          "output_type": "stream",
          "name": "stdout",
          "text": [
            "mona.\n",
            "mayanniellend.\n",
            "ryah.\n",
            "remmastendraeg.\n",
            "adelynneliigh.\n",
            "poren.\n",
            "eden.\n",
            "estanar.\n",
            "kayzimontelin.\n",
            "shubergahiriel.\n",
            "kendrenleigh.\n",
            "berlyn.\n",
            "brey.\n",
            "dariyah.\n",
            "fael.\n",
            "yuma.\n",
            "maston.\n",
            "azhia.\n",
            "aadyansun.\n",
            "zakelver.\n",
            "ell.\n",
            "revin.\n",
            "jaoxien.\n",
            "adi.\n",
            "fen.\n",
            "oeobhigpeilah.\n",
            "cathya.\n",
            "hurar.\n",
            "min.\n",
            "airi.\n",
            "evon.\n",
            "walla.\n",
            "ortaristtand.\n",
            "sira.\n",
            "alingtton.\n",
            "saivia.\n",
            "mellaketan.\n",
            "ayleanna.\n",
            "damarienna.\n",
            "alin.\n",
            "aud.\n",
            "aive.\n",
            "dah.\n",
            "vicle.\n",
            "ajasepango.\n",
            "alorictaviiah.\n",
            "glon.\n",
            "ellaynn.\n",
            "lory.\n",
            "pory.\n",
            "nog.\n",
            "amauri.\n",
            "maryk.\n",
            "ames.\n",
            "thavia.\n",
            "daelen.\n",
            "ama.\n",
            "coper.\n",
            "tyreste.\n",
            "emona.\n",
            "mika.\n",
            "beimhta.\n",
            "mos.\n",
            "gorgin.\n",
            "had.\n",
            "kamar.\n",
            "aco.\n",
            "kath.\n",
            "azren.\n",
            "ana.\n",
            "kenna.\n",
            "aunce.\n",
            "aosy.\n",
            "saias.\n",
            "nic.\n",
            "ciretanciand.\n",
            "emila.\n",
            "ana.\n",
            "lakaan.\n",
            "avian.\n",
            "gulianna.\n",
            "loi.\n",
            "zyon.\n",
            "darai.\n",
            "june.\n",
            "trayline.\n",
            "jamiir.\n",
            "tomerrie.\n",
            "meriad.\n",
            "adya.\n",
            "anlee.\n",
            "zevan.\n",
            "galdinco.\n",
            "taja.\n",
            "andis.\n",
            "beckseri.\n",
            "janna.\n",
            "taxel.\n",
            "day.\n",
            "jaxsi.\n"
          ]
        }
      ]
    }
  ]
}